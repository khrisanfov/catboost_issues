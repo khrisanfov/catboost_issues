{
 "cells": [
  {
   "cell_type": "code",
   "execution_count": 1,
   "metadata": {
    "collapsed": true,
    "pycharm": {
     "is_executing": false
    }
   },
   "outputs": [],
   "source": [
    "import catboost\n",
    "from catboost import *\n",
    "from catboost import datasets"
   ]
  },
  {
   "cell_type": "code",
   "execution_count": 2,
   "outputs": [],
   "source": [
    "(train_df, test_df) = catboost.datasets.amazon()"
   ],
   "metadata": {
    "collapsed": false,
    "pycharm": {
     "name": "#%%\n",
     "is_executing": false
    }
   }
  },
  {
   "cell_type": "code",
   "execution_count": 3,
   "outputs": [],
   "source": [
    "y = train_df.ACTION\n",
    "X = train_df.drop('ACTION', axis=1)\n",
    "cat_features = list(range(0, X.shape[1]))"
   ],
   "metadata": {
    "collapsed": false,
    "pycharm": {
     "name": "#%%\n",
     "is_executing": false
    }
   }
  },
  {
   "cell_type": "code",
   "execution_count": 4,
   "outputs": [],
   "source": [
    "from sklearn.model_selection import train_test_split\n",
    "X_train, X_validation, y_train, y_validation = train_test_split(X, y, train_size=0.8, random_state=1234)"
   ],
   "metadata": {
    "collapsed": false,
    "pycharm": {
     "name": "#%%\n",
     "is_executing": false
    }
   }
  },
  {
   "cell_type": "code",
   "execution_count": 5,
   "outputs": [],
   "source": [
    "train_pool = Pool(data=X_train, label=y_train, cat_features=cat_features)\n",
    "valid_pool = Pool(data=X_validation, label=y_validation, cat_features=cat_features)"
   ],
   "metadata": {
    "collapsed": false,
    "pycharm": {
     "name": "#%%\n",
     "is_executing": false
    }
   }
  },
  {
   "cell_type": "code",
   "execution_count": 6,
   "outputs": [
    {
     "name": "stdout",
     "text": [
      "0:\tlearn: 0.6556578\ttest: 0.6555212\tbest: 0.6555212 (0)\ttotal: 41.1ms\tremaining: 6m 50s\n",
      "100:\tlearn: 0.1685834\ttest: 0.1539558\tbest: 0.1539558 (100)\ttotal: 3.68s\tremaining: 6m 1s\n",
      "200:\tlearn: 0.1597913\ttest: 0.1435176\tbest: 0.1435176 (200)\ttotal: 7.46s\tremaining: 6m 3s\n",
      "300:\tlearn: 0.1565736\ttest: 0.1411383\tbest: 0.1411383 (300)\ttotal: 11.2s\tremaining: 6m 1s\n",
      "400:\tlearn: 0.1544688\ttest: 0.1399288\tbest: 0.1399211 (399)\ttotal: 14.7s\tremaining: 5m 52s\n",
      "500:\tlearn: 0.1534914\ttest: 0.1394533\tbest: 0.1394427 (497)\ttotal: 18.3s\tremaining: 5m 46s\n",
      "600:\tlearn: 0.1521839\ttest: 0.1388447\tbest: 0.1388259 (595)\ttotal: 21.9s\tremaining: 5m 42s\n",
      "700:\tlearn: 0.1510331\ttest: 0.1384683\tbest: 0.1384635 (699)\ttotal: 25.6s\tremaining: 5m 39s\n",
      "800:\tlearn: 0.1499054\ttest: 0.1382255\tbest: 0.1381939 (774)\ttotal: 29.2s\tremaining: 5m 35s\n",
      "900:\tlearn: 0.1488784\ttest: 0.1379083\tbest: 0.1379083 (900)\ttotal: 32.8s\tremaining: 5m 30s\n",
      "bestTest = 0.1378904313\nbestIteration = 908\n"
     ],
     "output_type": "stream"
    },
    {
     "data": {
      "text/plain": "<catboost.core.CatBoostClassifier at 0x7fc7945eb0b8>"
     },
     "metadata": {},
     "output_type": "execute_result",
     "execution_count": 6
    }
   ],
   "source": [
    "model = CatBoostClassifier(random_seed=1234,\n",
    "                           iterations=10000,\n",
    "                           learning_rate=0.03, \n",
    "                           depth=4, \n",
    "                           l2_leaf_reg=5,  \n",
    "                           loss_function='Logloss',\n",
    "                           od_type='IncToDec',\n",
    "                           od_pval=0.2,\n",
    "                           use_best_model=False,\n",
    "                           task_type='GPU',\n",
    "                           bagging_temperature=0,\n",
    "                           random_strength=3,\n",
    "                           one_hot_max_size=0,\n",
    "                           max_ctr_complexity=4,\n",
    "                           border_count=255,\n",
    "                           feature_border_type='GreedyLogSum',\n",
    "                           leaf_estimation_method='Gradient',\n",
    "                           devices='0',\n",
    "                           gpu_ram_part=0.99)\n",
    "model.fit(train_pool, eval_set=valid_pool, verbose=100, plot=False)"
   ],
   "metadata": {
    "collapsed": false,
    "pycharm": {
     "name": "#%%\n",
     "is_executing": false
    }
   }
  },
  {
   "cell_type": "code",
   "execution_count": 9,
   "outputs": [
    {
     "traceback": [
      "\u001b[0;31m---------------------------------------------------------------------------\u001b[0m",
      "\u001b[0;31mCatBoostError\u001b[0m                             Traceback (most recent call last)",
      "\u001b[0;32m<ipython-input-9-04f1b25fb0a6>\u001b[0m in \u001b[0;36m<module>\u001b[0;34m\u001b[0m\n\u001b[0;32m----> 1\u001b[0;31m \u001b[0mmodel\u001b[0m\u001b[0;34m.\u001b[0m\u001b[0mget_all_params\u001b[0m\u001b[0;34m(\u001b[0m\u001b[0;34m)\u001b[0m\u001b[0;34m\u001b[0m\u001b[0;34m\u001b[0m\u001b[0m\n\u001b[0m\u001b[1;32m      2\u001b[0m \u001b[0;34m\u001b[0m\u001b[0m\n",
      "\u001b[0;32m/usr/local/lib/python3.6/dist-packages/catboost/core.py\u001b[0m in \u001b[0;36mget_all_params\u001b[0;34m(self)\u001b[0m\n\u001b[1;32m   2207\u001b[0m         \u001b[0;32mif\u001b[0m \u001b[0;32mnot\u001b[0m \u001b[0mself\u001b[0m\u001b[0;34m.\u001b[0m\u001b[0mis_fitted\u001b[0m\u001b[0;34m(\u001b[0m\u001b[0;34m)\u001b[0m\u001b[0;34m:\u001b[0m\u001b[0;34m\u001b[0m\u001b[0;34m\u001b[0m\u001b[0m\n\u001b[1;32m   2208\u001b[0m             \u001b[0;32mraise\u001b[0m \u001b[0mCatBoostError\u001b[0m\u001b[0;34m(\u001b[0m\u001b[0;34m\"There is no trained model to use get_all_params(). Use fit() to train model. Then use this method.\"\u001b[0m\u001b[0;34m)\u001b[0m\u001b[0;34m\u001b[0m\u001b[0;34m\u001b[0m\u001b[0m\n\u001b[0;32m-> 2209\u001b[0;31m         \u001b[0;32mreturn\u001b[0m \u001b[0mself\u001b[0m\u001b[0;34m.\u001b[0m\u001b[0m_object\u001b[0m\u001b[0;34m.\u001b[0m\u001b[0m_get_plain_params\u001b[0m\u001b[0;34m(\u001b[0m\u001b[0;34m)\u001b[0m\u001b[0;34m\u001b[0m\u001b[0;34m\u001b[0m\u001b[0m\n\u001b[0m\u001b[1;32m   2210\u001b[0m \u001b[0;34m\u001b[0m\u001b[0m\n\u001b[1;32m   2211\u001b[0m \u001b[0;34m\u001b[0m\u001b[0m\n",
      "\u001b[0;32m_catboost.pyx\u001b[0m in \u001b[0;36m_catboost._CatBoost._get_plain_params\u001b[0;34m()\u001b[0m\n",
      "\u001b[0;32m_catboost.pyx\u001b[0m in \u001b[0;36m_catboost._CatBoost._get_plain_params\u001b[0;34m()\u001b[0m\n",
      "\u001b[0;31mCatBoostError\u001b[0m: catboost/libs/options/plain_options_helper.cpp:730: some tree_learner_options keys missed"
     ],
     "ename": "CatBoostError",
     "evalue": "catboost/libs/options/plain_options_helper.cpp:730: some tree_learner_options keys missed",
     "output_type": "error"
    }
   ],
   "source": [
    "model.get_all_params()\n"
   ],
   "metadata": {
    "collapsed": false,
    "pycharm": {
     "name": "#%%\n",
     "is_executing": false
    }
   }
  }
 ],
 "metadata": {
  "language_info": {
   "codemirror_mode": {
    "name": "ipython",
    "version": 2
   },
   "file_extension": ".py",
   "mimetype": "text/x-python",
   "name": "python",
   "nbconvert_exporter": "python",
   "pygments_lexer": "ipython2",
   "version": "2.7.6"
  },
  "kernelspec": {
   "name": "python3",
   "language": "python",
   "display_name": "Python 3"
  },
  "pycharm": {
   "stem_cell": {
    "cell_type": "raw",
    "source": [],
    "metadata": {
     "collapsed": false
    }
   }
  }
 },
 "nbformat": 4,
 "nbformat_minor": 0
}